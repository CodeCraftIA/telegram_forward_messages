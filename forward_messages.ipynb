{
  "nbformat": 4,
  "nbformat_minor": 0,
  "metadata": {
    "colab": {
      "provenance": [],
      "authorship_tag": "ABX9TyM/g/FrYlsqjGCH/xrmTyBd",
      "include_colab_link": true
    },
    "kernelspec": {
      "name": "python3",
      "display_name": "Python 3"
    },
    "language_info": {
      "name": "python"
    }
  },
  "cells": [
    {
      "cell_type": "markdown",
      "metadata": {
        "id": "view-in-github",
        "colab_type": "text"
      },
      "source": [
        "<a href=\"https://colab.research.google.com/github/CodeCraftIA/telegram_forward_messages/blob/main/forward_messages.ipynb\" target=\"_parent\"><img src=\"https://colab.research.google.com/assets/colab-badge.svg\" alt=\"Open In Colab\"/></a>"
      ]
    },
    {
      "cell_type": "code",
      "execution_count": null,
      "metadata": {
        "id": "5da5E50SNE_T"
      },
      "outputs": [],
      "source": [
        "!pip install telethon"
      ]
    },
    {
      "cell_type": "code",
      "source": [
        "from telethon import TelegramClient, events\n",
        "\n",
        "# Replace these with your actual API credentials\n",
        "api_id = 'xxx'\n",
        "api_hash = 'xxxxx'\n",
        "\n",
        "async def get_last_message_id(channel):\n",
        "  async with TelegramClient('anon', api_id, api_hash) as client:\n",
        "    try:\n",
        "      async for message in client.iter_messages(channel, limit=1):\n",
        "          return message\n",
        "    except Exception as e:\n",
        "        print(f\"Oops: \", e)\n",
        "        return None\n",
        "async def forward_message(message, to_chats):\n",
        "    async with TelegramClient('anon', api_id, api_hash) as client:\n",
        "        try:\n",
        "            for chat_id in to_chats:\n",
        "                await client.forward_messages(chat_id, message)\n",
        "                print(f\"Message forwarded to {chat_id}\")\n",
        "        except Exception as e:\n",
        "            print(f\"Failed to forward message: {e}\")\n",
        "\n",
        "if __name__ == \"__main__\":\n",
        "    # Define your source_chat_id\n",
        "    source_chat_id = 'replace_with_source_id'\n",
        "    message = await get_last_message_id(source_chat_id)\n",
        "    if message:\n",
        "        print(message.id, message.text)\n",
        "        chats = [\"chat1_id\", \"chat2_id\"] #replace them with yours\n",
        "        # Forward the message to destination chats\n",
        "        await forward_message(message, chats)\n",
        "    else:\n",
        "        print(f\"No message found in {source_chat_id}\")"
      ],
      "metadata": {
        "id": "Ni7t1Gj5NJNs"
      },
      "execution_count": null,
      "outputs": []
    }
  ]
}